{
 "cells": [
  {
   "cell_type": "code",
   "execution_count": 25,
   "id": "7960b42f",
   "metadata": {},
   "outputs": [],
   "source": [
    "import urllib\n",
    "import os\n",
    "from requests import get\n",
    "from matplotlib import pyplot\n",
    "from bs4 import BeautifulSoup\n",
    "%matplotlib inline\n",
    "\n",
    "from osgeo import gdal\n",
    "import rasterio\n",
    "import rasterio.plot\n",
    "\n",
    "import numpy as np\n",
    "from PIL import Image\n",
    "import imageio"
   ]
  },
  {
   "cell_type": "code",
   "execution_count": 26,
   "id": "c1b0a18b",
   "metadata": {},
   "outputs": [],
   "source": [
    "dir_train = 'C:/Users/spinsi/Desktop/code/jupyternotebook_python37/2. Road extraction/datasets/train/input_filtered'\n",
    "\n",
    "#전역변수 지정\n",
    "url = \"https://www.cs.toronto.edu/~vmnih/data/\"\n",
    "\n",
    "train_input_url = \"mass_roads/train/sat/index.html\"\n",
    "train_target_url = \"mass_roads/train/map/index.html\"\n",
    "\n",
    "train_directory = \"C:/Users/spinsi/Desktop/code/jupyternotebook_python37/2. Road extraction/datasets/train/input\"\n",
    "target_directory = \"C:/Users/spinsi/Desktop/code/jupyternotebook_python37/2. Road extraction/datasets/train/target\""
   ]
  },
  {
   "cell_type": "code",
   "execution_count": 27,
   "id": "f74303e8",
   "metadata": {},
   "outputs": [],
   "source": [
    "os.chdir(train_directory)\n",
    "a = os.listdir(train_directory)[0]\n",
    "\n",
    "train = rasterio.open(a)"
   ]
  },
  {
   "cell_type": "code",
   "execution_count": 38,
   "id": "5892fdf7",
   "metadata": {},
   "outputs": [],
   "source": [
    "trainimg = np.array([(train.read(i)) for i in (1,2,3)])\n",
    "trainimg = trainimg.transpose(1,2,0)"
   ]
  },
  {
   "cell_type": "code",
   "execution_count": 39,
   "id": "d995a746",
   "metadata": {
    "scrolled": true
   },
   "outputs": [
    {
     "name": "stdout",
     "output_type": "stream",
     "text": [
      "(1500, 1500, 3)\n"
     ]
    }
   ],
   "source": [
    "print(trainimg.shape)"
   ]
  },
  {
   "cell_type": "code",
   "execution_count": 32,
   "id": "2e7c131f",
   "metadata": {
    "scrolled": false
   },
   "outputs": [
    {
     "name": "stdout",
     "output_type": "stream",
     "text": [
      "[[0 0 0 ... 0 0 0]\n",
      " [0 0 0 ... 0 0 0]\n",
      " [0 0 0 ... 0 0 0]\n",
      " ...\n",
      " [1 1 1 ... 1 1 1]\n",
      " [1 1 1 ... 1 1 1]\n",
      " [1 1 1 ... 1 1 1]]\n",
      "722878\n"
     ]
    }
   ],
   "source": [
    "count = np.count_nonzero(trainimg == 255, axis=0)//3\n",
    "print(count)\n",
    "s=count.sum()\n",
    "print(s)\n"
   ]
  },
  {
   "cell_type": "code",
   "execution_count": 40,
   "id": "390599a3",
   "metadata": {
    "scrolled": false
   },
   "outputs": [],
   "source": [
    "count = np.count_nonzero(np.all(trainimg == 255, axis=0))"
   ]
  },
  {
   "cell_type": "code",
   "execution_count": 43,
   "id": "b8ff792d",
   "metadata": {
    "scrolled": false
   },
   "outputs": [],
   "source": [
    "count = np.count_nonzero(np.all(trainimg == [255,255,255], axis=-1))"
   ]
  },
  {
   "cell_type": "code",
   "execution_count": 44,
   "id": "ceb2e61b",
   "metadata": {
    "scrolled": true
   },
   "outputs": [
    {
     "name": "stdout",
     "output_type": "stream",
     "text": [
      "722878\n"
     ]
    }
   ],
   "source": [
    "print(count)"
   ]
  },
  {
   "cell_type": "code",
   "execution_count": 29,
   "id": "63085f7f",
   "metadata": {},
   "outputs": [
    {
     "name": "stdout",
     "output_type": "stream",
     "text": [
      "(1500, 1500)\n"
     ]
    }
   ],
   "source": [
    "print(count.shape)"
   ]
  },
  {
   "cell_type": "code",
   "execution_count": 33,
   "id": "034250b1",
   "metadata": {
    "scrolled": true
   },
   "outputs": [
    {
     "name": "stdout",
     "output_type": "stream",
     "text": [
      "(3, 1500, 1500)\n"
     ]
    }
   ],
   "source": [
    "print((trainimg==255).shape)"
   ]
  },
  {
   "cell_type": "code",
   "execution_count": 36,
   "id": "2362ae93",
   "metadata": {},
   "outputs": [
    {
     "name": "stdout",
     "output_type": "stream",
     "text": [
      "(1500, 1500, 3)\n"
     ]
    }
   ],
   "source": [
    "print(x.shape)"
   ]
  },
  {
   "cell_type": "code",
   "execution_count": 46,
   "id": "ab9a52c3",
   "metadata": {
    "collapsed": true
   },
   "outputs": [
    {
     "name": "stdout",
     "output_type": "stream",
     "text": [
      "[[[136 113  70 ...  53  47  46]\n",
      "  [ 96 107 113 ...  54  47  47]\n",
      "  [107  89 110 ...  55  49  42]\n",
      "  ...\n",
      "  [255 255 255 ... 255 255 255]\n",
      "  [255 255 255 ... 255 255 255]\n",
      "  [255 255 255 ... 255 255 255]]\n",
      "\n",
      " [[110  94  64 ...  74  70  67]\n",
      "  [ 77  87  94 ...  76  67  65]\n",
      "  [ 88  79  90 ...  77  66  66]\n",
      "  ...\n",
      "  [255 255 255 ... 255 255 255]\n",
      "  [255 255 255 ... 255 255 255]\n",
      "  [255 255 255 ... 255 255 255]]\n",
      "\n",
      " [[ 90  80  61 ...  54  55  51]\n",
      "  [ 79  80  75 ...  55  49  48]\n",
      "  [ 69  68  81 ...  58  49  48]\n",
      "  ...\n",
      "  [255 255 255 ... 255 255 255]\n",
      "  [255 255 255 ... 255 255 255]\n",
      "  [255 255 255 ... 255 255 255]]]\n"
     ]
    }
   ],
   "source": [
    "print(trainimg)"
   ]
  },
  {
   "cell_type": "code",
   "execution_count": 49,
   "id": "056c0110",
   "metadata": {},
   "outputs": [],
   "source": [
    "x, y = np.unique(trainimg, return_counts=True)"
   ]
  },
  {
   "cell_type": "code",
   "execution_count": 50,
   "id": "772f2380",
   "metadata": {
    "collapsed": true
   },
   "outputs": [
    {
     "name": "stdout",
     "output_type": "stream",
     "text": [
      "[  0   1   2   3   4   5   6   7   8   9  10  11  12  13  14  15  16  17\n",
      "  18  19  20  21  22  23  24  25  26  27  28  29  30  31  32  33  34  35\n",
      "  36  37  38  39  40  41  42  43  44  45  46  47  48  49  50  51  52  53\n",
      "  54  55  56  57  58  59  60  61  62  63  64  65  66  67  68  69  70  71\n",
      "  72  73  74  75  76  77  78  79  80  81  82  83  84  85  86  87  88  89\n",
      "  90  91  92  93  94  95  96  97  98  99 100 101 102 103 104 105 106 107\n",
      " 108 109 110 111 112 113 114 115 116 117 118 119 120 121 122 123 124 125\n",
      " 126 127 128 129 130 131 132 133 134 135 136 137 138 139 140 141 142 143\n",
      " 144 145 146 147 148 149 150 151 152 153 154 155 156 157 158 159 160 161\n",
      " 162 163 164 165 166 167 168 169 170 171 172 173 174 175 176 177 178 179\n",
      " 180 181 182 183 184 185 186 187 188 189 190 191 192 193 194 195 196 197\n",
      " 198 199 200 201 202 203 204 205 206 207 208 209 210 211 212 213 214 215\n",
      " 216 217 218 219 220 221 222 223 224 225 226 227 228 229 230 231 232 233\n",
      " 234 235 236 237 238 239 240 241 242 243 244 245 246 247 248 249 250 251\n",
      " 252 253 254 255]\n",
      "[      5       3       8      14      19      39      70     157     330\n",
      "     671    1247    1706    2298    2927    3420    3822    4333    4661\n",
      "    4900    5231    5756    5957    6544    6901    7304    8042    8522\n",
      "    9161    9657   10159   10762   11492   12160   12718   13128   13558\n",
      "   14396   15235   16043   17119   17957   18992   20062   21226   22548\n",
      "   23894   25719   28077   30514   32966   34969   36874   39081   40251\n",
      "   41655   43267   44286   45019   46370   47316   47982   48931   50194\n",
      "   50863   52049   53078   53613   53715   54816   54183   54683   54539\n",
      "   54091   53921   53186   52384   51795   50474   49712   48996   47776\n",
      "   46484   45408   44550   43271   42851   41623   40818   40339   38661\n",
      "   38538   38085   36945   36402   35609   35112   34496   34301   33860\n",
      "   33312   32556   32875   32675   32743   31963   32234   31715   31823\n",
      "   31794   31700   31330   30845   30940   30649   30104   29874   28854\n",
      "   28771   28108   28341   27570   26904   26424   25664   25284   24862\n",
      "   24382   23615   23527   23115   22824   22577   22702   22217   22241\n",
      "   21835   21761   21578   21149   20887   20638   20594   20289   20076\n",
      "   19628   18754   18912   18125   17964   17348   16887   16320   15865\n",
      "   15294   14593   14383   13814   13262   13111   12617   12165   12079\n",
      "   11811   11240   11195   10685   10623   10353   10084    9674    9523\n",
      "    9216    8924    8685    8496    8261    8185    7952    8141    7905\n",
      "    7671    7689    7676    7304    7075    6823    6750    6632    6347\n",
      "    6258    5968    5892    5791    5541    5404    5010    4927    4602\n",
      "    4525    4249    4053    3995    3736    3619    3606    3351    3320\n",
      "    3164    3050    3028    2928    3011    2834    2865    2875    2840\n",
      "    2748    2562    2552    2489    2221    2260    2117    1832    1696\n",
      "    1592    1425    1391    1182    1041     941     907     808     740\n",
      "     574     473     431     370     299     276     301     310     247\n",
      "     189     178     165     125     119     130     192     455     671\n",
      "     578     526    1020 2169611]\n"
     ]
    }
   ],
   "source": [
    "print(x)\n",
    "print(y)"
   ]
  },
  {
   "cell_type": "code",
   "execution_count": 52,
   "id": "f45500dd",
   "metadata": {},
   "outputs": [
    {
     "data": {
      "text/plain": [
       "(array([ 40108., 152636., 358457., 304106., 255339., 185070., 126430.,\n",
       "         72526.,  28160., 727168.]),\n",
       " array([  0. ,  25.5,  51. ,  76.5, 102. , 127.5, 153. , 178.5, 204. ,\n",
       "        229.5, 255. ]),\n",
       " <BarContainer object of 10 artists>)"
      ]
     },
     "execution_count": 52,
     "metadata": {},
     "output_type": "execute_result"
    },
    {
     "data": {
      "image/png": "[encoded data removed]",
      "text/plain": [
       "<Figure size 432x288 with 1 Axes>"
      ]
     },
     "metadata": {
      "needs_background": "light"
     },
     "output_type": "display_data"
    }
   ],
   "source": [
    "pyplot.hist(trainimg[0,:,:].reshape(-1))"
   ]
  },
  {
   "cell_type": "code",
   "execution_count": 61,
   "id": "bc0814b1",
   "metadata": {},
   "outputs": [
    {
     "data": {
      "text/plain": [
       "(array([[  6.,  40., 240., ...,   8.,   2., 522.],\n",
       "        [  8.,  36., 247., ...,  10.,   2., 522.],\n",
       "        [  8.,  55., 252., ...,  10.,   1., 522.],\n",
       "        ...,\n",
       "        [  9., 178., 239., ..., 115.,  55., 410.],\n",
       "        [ 14., 185., 244., ..., 105.,  66., 410.],\n",
       "        [  8., 197., 252., ..., 109.,  60., 411.]]),\n",
       " array([  0. ,  25.5,  51. ,  76.5, 102. , 127.5, 153. , 178.5, 204. ,\n",
       "        229.5, 255. ]),\n",
       " <a list of 1500 BarContainer objects>)"
      ]
     },
     "execution_count": 61,
     "metadata": {},
     "output_type": "execute_result"
    },
    {
     "data": {
      "image/png": "[encoded data removed]",
      "text/plain": [
       "<Figure size 432x288 with 1 Axes>"
      ]
     },
     "metadata": {
      "needs_background": "light"
     },
     "output_type": "display_data"
    }
   ],
   "source": [
    "pyplot.hist(trainimg[0,:,:])"
   ]
  },
  {
   "cell_type": "code",
   "execution_count": 60,
   "id": "47c8c43e",
   "metadata": {},
   "outputs": [
    {
     "name": "stdout",
     "output_type": "stream",
     "text": [
      "(3, 2250000)\n"
     ]
    }
   ],
   "source": [
    "print(a.shape)"
   ]
  },
  {
   "cell_type": "code",
   "execution_count": 55,
   "id": "2a7325c0",
   "metadata": {},
   "outputs": [
    {
     "name": "stdout",
     "output_type": "stream",
     "text": [
      "(3, 1500, 1500)\n"
     ]
    }
   ],
   "source": [
    "print(trainimg.shape)"
   ]
  },
  {
   "cell_type": "code",
   "execution_count": null,
   "id": "5ff363b5",
   "metadata": {},
   "outputs": [],
   "source": []
  }
 ],
 "metadata": {
  "kernelspec": {
   "display_name": "python37",
   "language": "python",
   "name": "python37"
  },
  "language_info": {
   "codemirror_mode": {
    "name": "ipython",
    "version": 3
   },
   "file_extension": ".py",
   "mimetype": "text/x-python",
   "name": "python",
   "nbconvert_exporter": "python",
   "pygments_lexer": "ipython3",
   "version": "3.7.11"
  },
  "varInspector": {
   "cols": {
    "lenName": 16,
    "lenType": 16,
    "lenVar": 40
   },
   "kernels_config": {
    "python": {
     "delete_cmd_postfix": "",
     "delete_cmd_prefix": "del ",
     "library": "var_list.py",
     "varRefreshCmd": "print(var_dic_list())"
    },
    "r": {
     "delete_cmd_postfix": ") ",
     "delete_cmd_prefix": "rm(",
     "library": "var_list.r",
     "varRefreshCmd": "cat(var_dic_list()) "
    }
   },
   "types_to_exclude": [
    "module",
    "function",
    "builtin_function_or_method",
    "instance",
    "_Feature"
   ],
   "window_display": false
  }
 },
 "nbformat": 4,
 "nbformat_minor": 5
}
