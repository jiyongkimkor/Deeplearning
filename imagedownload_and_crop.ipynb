{
 "cells": [
  {
   "cell_type": "code",
   "execution_count": 1,
   "id": "e2e882a1",
   "metadata": {},
   "outputs": [],
   "source": [
    "import urllib\n",
    "import os\n",
    "from requests import get\n",
    "from matplotlib import pyplot\n",
    "from bs4 import BeautifulSoup\n",
    "%matplotlib inline\n",
    "\n",
    "from osgeo import gdal\n",
    "import rasterio\n",
    "import rasterio.plot\n",
    "\n",
    "import numpy as np\n",
    "from PIL import Image\n",
    "import imageio"
   ]
  },
  {
   "cell_type": "code",
   "execution_count": 2,
   "id": "7c864918",
   "metadata": {},
   "outputs": [],
   "source": [
    "#전역변수 지정 (연구실용)\n",
    "url = \"https://www.cs.toronto.edu/~vmnih/data/\"\n",
    "\n",
    "train_input_url = \"mass_roads/train/sat/index.html\"\n",
    "train_target_url = \"mass_roads/train/map/index.html\"\n",
    "val_input_url = \"mass_roads/valid/sat/index.html\"\n",
    "val_target_url = \"mass_roads/valid/map/index.html\"\n",
    "\n",
    "train_directory = \"C:/Users/spinsi/Desktop/code/jupyternotebook_python37/2.Roadextraction/datasets/train/input\"\n",
    "target_directory = \"C:/Users/spinsi/Desktop/code/jupyternotebook_python37/2.Roadextraction/datasets/train/target\"\n",
    "val_train_directory = \"C:/Users/spinsi/Desktop/code/jupyternotebook_python37/2.Roadextraction/datasets/validation/input\"\n",
    "val_target_directory = \"C:/Users/spinsi/Desktop/code/jupyternotebook_python37/2.Roadextraction/datasets/validation/target\"\n",
    "\n",
    "dir_train = 'C:/Users/spinsi/Desktop/code/jupyternotebook_python37/2.Roadextraction/datasets/train/input_filtered'\n",
    "dir_target = 'C:/Users/spinsi/Desktop/code/jupyternotebook_python37/2.Roadextraction/datasets/train/target_filtered'\n",
    "val_train = 'C:/Users/spinsi/Desktop/code/jupyternotebook_python37/2.Roadextraction/datasets/validation/input_filtered'\n",
    "val_target = 'C:/Users/spinsi/Desktop/code/jupyternotebook_python37/2.Roadextraction/datasets/validation/target_filtered'"
   ]
  },
  {
   "cell_type": "code",
   "execution_count": 45,
   "id": "84d064a9",
   "metadata": {},
   "outputs": [],
   "source": [
    "#전역변수 지정 (노트북용)\n",
    "url = \"https://www.cs.toronto.edu/~vmnih/data/\"\n",
    "\n",
    "train_input_url = \"mass_roads/train/sat/index.html\"\n",
    "train_target_url = \"mass_roads/train/map/index.html\"\n",
    "\n",
    "train_directory = \"C:/Users/Jiyong/Desktop/coding/Python/DeepLearning/datasets/train/input\"\n",
    "target_directory = \"C:/Users/Jiyong/Desktop/coding/Python/DeepLearning/datasets/train/target\"\n",
    "\n",
    "dir_train = 'C:/Users/Jiyong/Desktop/coding/Python/DeepLearning/datasets/train/input_filtered'\n",
    "dir_target = 'C:/Users/Jiyong/Desktop/coding/Python/DeepLearning/datasets/train/target_filtered'"
   ]
  },
  {
   "cell_type": "code",
   "execution_count": 13,
   "id": "50bd8cf6",
   "metadata": {},
   "outputs": [],
   "source": [
    "# 데이터 다운받기\n",
    "class downloader:\n",
    "    def __init__(self, url, url2, directory):\n",
    "        self.url = url\n",
    "        self.url2 = url2\n",
    "        self.directory = directory\n",
    "        \n",
    "    def parse(self):\n",
    "        req = urllib.request.Request(self.url+self.url2)\n",
    "        sourcecode=urllib.request.urlopen(self.url+self.url2).read()\n",
    "        soup = BeautifulSoup(sourcecode, \"html.parser\")\n",
    "        cell_line = []\n",
    "        links = soup.find_all('a')\n",
    "        for i in links:\n",
    "            href = i.attrs['href']\n",
    "            cell_line.append(href)\n",
    "            for j in cell_line:\n",
    "                if j.find(\"index\") != -1:\n",
    "                    cell_line.remove(j)\n",
    "        os.chdir(self.directory)\n",
    "        for j in cell_line:\n",
    "            urllib.request.urlretrieve(j, j[59:])"
   ]
  },
  {
   "cell_type": "code",
   "execution_count": 15,
   "id": "f36578e4",
   "metadata": {},
   "outputs": [],
   "source": [
    "dl = downloader(url,val_target_url,val_target_directory)\n",
    "dl.parse()\n"
   ]
  },
  {
   "cell_type": "code",
   "execution_count": 5,
   "id": "771a6651",
   "metadata": {
    "scrolled": true
   },
   "outputs": [
    {
     "name": "stderr",
     "output_type": "stream",
     "text": [
      "C:\\Users\\spinsi\\Anaconda3\\envs\\python37\\lib\\site-packages\\rasterio\\__init__.py:225: NotGeoreferencedWarning: The given matrix is equal to Affine.identity or its flipped counterpart. GDAL may ignore this matrix and save no geotransform without raising an error. This behavior is somewhat driver-specific.\n",
      "  **kwargs)\n",
      "C:\\Users\\spinsi\\Anaconda3\\envs\\python37\\lib\\site-packages\\rasterio\\__init__.py:216: NotGeoreferencedWarning: Dataset has no geotransform set. The identity matrix may be returned.\n",
      "  s = DatasetReader(path, driver=driver, **kwargs)\n"
     ]
    },
    {
     "ename": "KeyboardInterrupt",
     "evalue": "",
     "output_type": "error",
     "traceback": [
      "\u001b[1;31m---------------------------------------------------------------------------\u001b[0m",
      "\u001b[1;31mKeyboardInterrupt\u001b[0m                         Traceback (most recent call last)",
      "\u001b[1;32m~\\AppData\\Local\\Temp/ipykernel_5364/3797804740.py\u001b[0m in \u001b[0;36m<module>\u001b[1;34m\u001b[0m\n\u001b[0;32m     14\u001b[0m \u001b[1;33m\u001b[0m\u001b[0m\n\u001b[0;32m     15\u001b[0m     \u001b[1;32mfor\u001b[0m \u001b[0mi\u001b[0m \u001b[1;32min\u001b[0m \u001b[0mrange\u001b[0m\u001b[1;33m(\u001b[0m\u001b[1;36m1500\u001b[0m\u001b[1;33m)\u001b[0m\u001b[1;33m:\u001b[0m\u001b[1;33m\u001b[0m\u001b[1;33m\u001b[0m\u001b[0m\n\u001b[1;32m---> 16\u001b[1;33m         \u001b[1;32mfor\u001b[0m \u001b[0mj\u001b[0m \u001b[1;32min\u001b[0m \u001b[0mrange\u001b[0m\u001b[1;33m(\u001b[0m\u001b[1;36m1500\u001b[0m\u001b[1;33m)\u001b[0m\u001b[1;33m:\u001b[0m\u001b[1;33m\u001b[0m\u001b[1;33m\u001b[0m\u001b[0m\n\u001b[0m\u001b[0;32m     17\u001b[0m             \u001b[1;32mif\u001b[0m \u001b[0mtrainimg\u001b[0m\u001b[1;33m[\u001b[0m\u001b[1;36m0\u001b[0m\u001b[1;33m,\u001b[0m \u001b[0mi\u001b[0m\u001b[1;33m,\u001b[0m \u001b[0mj\u001b[0m\u001b[1;33m]\u001b[0m \u001b[1;33m==\u001b[0m \u001b[1;36m255\u001b[0m \u001b[1;32mand\u001b[0m \u001b[0mtrainimg\u001b[0m\u001b[1;33m[\u001b[0m\u001b[1;36m1\u001b[0m\u001b[1;33m,\u001b[0m \u001b[0mi\u001b[0m\u001b[1;33m,\u001b[0m \u001b[0mj\u001b[0m\u001b[1;33m]\u001b[0m \u001b[1;33m==\u001b[0m \u001b[1;36m255\u001b[0m \u001b[1;32mand\u001b[0m \u001b[0mtrainimg\u001b[0m\u001b[1;33m[\u001b[0m\u001b[1;36m2\u001b[0m\u001b[1;33m,\u001b[0m \u001b[0mi\u001b[0m\u001b[1;33m,\u001b[0m \u001b[0mj\u001b[0m\u001b[1;33m]\u001b[0m \u001b[1;33m==\u001b[0m \u001b[1;36m255\u001b[0m\u001b[1;33m:\u001b[0m\u001b[1;33m\u001b[0m\u001b[1;33m\u001b[0m\u001b[0m\n\u001b[0;32m     18\u001b[0m                 \u001b[0mtargetimg\u001b[0m\u001b[1;33m[\u001b[0m\u001b[1;36m0\u001b[0m\u001b[1;33m,\u001b[0m \u001b[0mi\u001b[0m\u001b[1;33m,\u001b[0m \u001b[0mj\u001b[0m\u001b[1;33m]\u001b[0m \u001b[1;33m=\u001b[0m \u001b[1;36m0\u001b[0m\u001b[1;33m\u001b[0m\u001b[1;33m\u001b[0m\u001b[0m\n",
      "\u001b[1;31mKeyboardInterrupt\u001b[0m: "
     ]
    }
   ],
   "source": [
    "# 이미지 전처리\n",
    "# adjust band 모듈은 0 ~ 1 사이로 normalization 하는 모듈\n",
    "# 일단 이미지 파일과 라벨 파일이 다른 것에 대해서 잘라냄\n",
    "for a in os.listdir(target_directory):\n",
    "    \n",
    "    os.chdir(train_directory)\n",
    "    train = rasterio.open(a+'f')\n",
    "    \n",
    "    os.chdir(target_directory)\n",
    "    target = rasterio.open(a)\n",
    "    \n",
    "    trainimg = np.array([(train.read(i)) for i in (1,2,3)])\n",
    "    targetimg = np.array([(target.read(1))])\n",
    "    \n",
    "    for i in range(1500):\n",
    "        for j in range(1500):\n",
    "            if trainimg[0, i, j] == 255 and trainimg[1, i, j] == 255 and trainimg[2, i, j] == 255:\n",
    "                targetimg[0, i, j] = 0\n",
    "    \n",
    "    profile = target.profile\n",
    "    dataset = rasterio.open(a, 'w', **profile)\n",
    "    dataset.write(targetimg.astype(rasterio.uint8))\n",
    "    \n",
    "# 일단은 파일 중에서 흰색 화면의 비율이 높은 파일 제거\n",
    "# 그다음은 augmentation을 통해서 데이터 갯수 늘이는 것이 목적\n",
    "# 파일이 워낙 많아서 처리하기가 워낙 쉬운게 아니네 좀 더 빠른 방법은 없을까?"
   ]
  },
  {
   "cell_type": "code",
   "execution_count": 3,
   "id": "e0aa330b",
   "metadata": {
    "collapsed": true
   },
   "outputs": [
    {
     "name": "stderr",
     "output_type": "stream",
     "text": [
      "C:\\Users\\spinsi\\Anaconda3\\envs\\python37\\lib\\site-packages\\rasterio\\__init__.py:216: NotGeoreferencedWarning: Dataset has no geotransform set. The identity matrix may be returned.\n",
      "  s = DatasetReader(path, driver=driver, **kwargs)\n"
     ]
    },
    {
     "name": "stdout",
     "output_type": "stream",
     "text": [
      "10228690_15.tif\n",
      "10978735_15.tif\n",
      "10978795_15.tif\n",
      "18028945_15.tif\n",
      "21929020_15.tif\n",
      "22528900_15.tif\n",
      "22829035_15.tif\n",
      "22978990_15.tif\n",
      "23128930_15.tif\n",
      "24179245_15.tif\n",
      "24328810_15.tif\n",
      "24929245_15.tif\n",
      "25229230_15.tif\n",
      "25229245_15.tif\n"
     ]
    }
   ],
   "source": [
    "# 이미지 중 흰색 비율이 높은 것들에 대해서 삭제\n",
    "for a in os.listdir(val_target_directory):\n",
    "    \n",
    "    os.chdir(val_train_directory)\n",
    "    train = rasterio.open(a+'f')\n",
    "    \n",
    "    os.chdir(val_target_directory)\n",
    "    target = rasterio.open(a)\n",
    "\n",
    "    trainimg = np.array([(train.read(i)) for i in (1,2,3)])\n",
    "    trainimg = trainimg.transpose(1,2,0)\n",
    "    targetimg = np.array([(target.read(1))])\n",
    "    targetimg = targetimg.transpose(1,2,0)\n",
    "    \n",
    "    count = np.count_nonzero(np.all(trainimg == [255,255,255], axis=-1))\n",
    "    if count <= 337500:\n",
    "        os.chdir(val_train)\n",
    "        imageio.imwrite(a[:-4]+'.png',trainimg)\n",
    "        os.chdir(val_target)\n",
    "        imageio.imwrite(a[:-4]+'.png',targetimg)\n",
    "        \n",
    "    print(a)"
   ]
  },
  {
   "cell_type": "code",
   "execution_count": null,
   "id": "ac6ed3f4",
   "metadata": {},
   "outputs": [],
   "source": [
    "# 이미지 중 흰색 비율이 높은 것들에 대해서 삭제\n",
    "for a in os.listdir(target_directory):\n",
    "    \n",
    "    os.chdir(train_directory)\n",
    "    train = rasterio.open(a+'f')\n",
    "    \n",
    "    os.chdir(target_directory)\n",
    "    target = rasterio.open(a)\n",
    "\n",
    "    trainimg = np.array([(train.read(i)) for i in (1,2,3)])\n",
    "    trainimg = trainimg.transpose(1,2,0)\n",
    "    targetimg = np.array([(target.read(1))])\n",
    "    targetimg = targetimg.transpose(1,2,0)\n",
    "    \n",
    "    count = np.count_nonzero(np.all(trainimg == [255,255,255], axis=-1))\n",
    "    if count <= 337500:\n",
    "        os.chdir(dir_train)\n",
    "        imageio.imwrite(a[:-4]+'.png',trainimg)\n",
    "        os.chdir(dir_target)\n",
    "        imageio.imwrite(a[:-4]+'.png',targetimg)\n",
    "        \n",
    "    print(a)"
   ]
  },
  {
   "cell_type": "code",
   "execution_count": 35,
   "id": "a02aa810",
   "metadata": {
    "scrolled": true
   },
   "outputs": [],
   "source": [
    "\n",
    "b = os.listdir(target_directory)\n",
    "os.chdir(train_directory)\n",
    "train = rasterio.open(b[0]+'f')\n",
    "\n",
    "os.chdir(target_directory)\n",
    "target = rasterio.open(b[0])\n",
    "\n",
    "trainimg = np.array([(train.read(i)) for i in (1,2,3)])\n",
    "trainimg = trainimg.transpose(1,2,0)\n",
    "targetimg = np.array([(target.read(1))])\n",
    "targetimg = targetimg.transpose(1,2,0)\n",
    "targetimg = targetimg.reshape((1500,1500))\n"
   ]
  },
  {
   "cell_type": "code",
   "execution_count": 9,
   "id": "2fa1e6f5",
   "metadata": {},
   "outputs": [
    {
     "name": "stdout",
     "output_type": "stream",
     "text": [
      "[  0 255]\n"
     ]
    }
   ],
   "source": [
    "print(np.unique(np.array(targetimg)))"
   ]
  },
  {
   "cell_type": "code",
   "execution_count": 39,
   "id": "fb122841",
   "metadata": {},
   "outputs": [],
   "source": [
    "os.chdir(dir_train)\n",
    "Image.fromarray(trainimg).save(\"1.png\")\n",
    "\n",
    "os.chdir(dir_target)\n",
    "Image.fromarray(targetimg).save(\"2.png\")"
   ]
  },
  {
   "cell_type": "code",
   "execution_count": 41,
   "id": "b1792f61",
   "metadata": {
    "collapsed": true
   },
   "outputs": [
    {
     "name": "stdout",
     "output_type": "stream",
     "text": [
      "[  0   1   2   3   4   5   6   7   8   9  10  11  12  13  14  15  16  17\n",
      "  18  19  20  21  22  23  24  25  26  27  28  29  30  31  32  33  34  35\n",
      "  36  37  38  39  40  41  42  43  44  45  46  47  48  49  50  51  52  53\n",
      "  54  55  56  57  58  59  60  61  62  63  64  65  66  67  68  69  70  71\n",
      "  72  73  74  75  76  77  78  79  80  81  82  83  84  85  86  87  88  89\n",
      "  90  91  92  93  94  95  96  97  98  99 100 101 102 103 104 105 106 107\n",
      " 108 109 110 111 112 113 114 115 116 117 118 119 120 121 122 123 124 125\n",
      " 126 127 128 129 130 131 132 133 134 135 136 137 138 139 140 141 142 143\n",
      " 144 145 146 147 148 149 150 151 152 153 154 155 156 157 158 159 160 161\n",
      " 162 163 164 165 166 167 168 169 170 171 172 173 174 175 176 177 178 179\n",
      " 180 181 182 183 184 185 186 187 188 189 190 191 192 193 194 195 196 197\n",
      " 198 199 200 201 202 203 204 205 206 207 208 209 210 211 212 213 214 215\n",
      " 216 217 218 219 220 221 222 223 224 225 226 227 228 229 230 231 232 233\n",
      " 234 235 236 237 238 239 240 241 242 243 244 245 246 247 248 249 250 251\n",
      " 252 253 254 255]\n",
      "[  0 255]\n"
     ]
    }
   ],
   "source": [
    "os.chdir(dir_train)\n",
    "imgArray=np.array(Image.open(\"1.png\"))\n",
    "print(np.unique(imgArray))\n",
    "\n",
    "os.chdir(dir_target)\n",
    "imgArray2=np.array(Image.open(\"2.png\"))\n",
    "print(np.unique(imgArray2))"
   ]
  },
  {
   "cell_type": "code",
   "execution_count": 3,
   "id": "44770d25",
   "metadata": {
    "scrolled": true
   },
   "outputs": [
    {
     "data": {
      "text/plain": [
       "['.dockerignore',\n",
       " '.git',\n",
       " '.gitignore',\n",
       " 'Dockerfile',\n",
       " 'downloads',\n",
       " 'image_cog.py',\n",
       " 'main.py',\n",
       " 'main_cog.py',\n",
       " 'music_cog.py',\n",
       " 'notes.txt',\n",
       " 'README.md',\n",
       " 'requirements.txt',\n",
       " '__pycache__']"
      ]
     },
     "execution_count": 3,
     "metadata": {},
     "output_type": "execute_result"
    }
   ],
   "source": [
    "os.listdir('c:/Users/Jiyong/Desktop/coding/Python/image_bot-main/image_bot-main')"
   ]
  },
  {
   "cell_type": "code",
   "execution_count": null,
   "id": "da771599",
   "metadata": {},
   "outputs": [],
   "source": []
  }
 ],
 "metadata": {
  "kernelspec": {
   "display_name": "python37",
   "language": "python",
   "name": "python37"
  },
  "language_info": {
   "codemirror_mode": {
    "name": "ipython",
    "version": 3
   },
   "file_extension": ".py",
   "mimetype": "text/x-python",
   "name": "python",
   "nbconvert_exporter": "python",
   "pygments_lexer": "ipython3",
   "version": "3.7.11"
  },
  "varInspector": {
   "cols": {
    "lenName": 16,
    "lenType": 16,
    "lenVar": 40
   },
   "kernels_config": {
    "python": {
     "delete_cmd_postfix": "",
     "delete_cmd_prefix": "del ",
     "library": "var_list.py",
     "varRefreshCmd": "print(var_dic_list())"
    },
    "r": {
     "delete_cmd_postfix": ") ",
     "delete_cmd_prefix": "rm(",
     "library": "var_list.r",
     "varRefreshCmd": "cat(var_dic_list()) "
    }
   },
   "types_to_exclude": [
    "module",
    "function",
    "builtin_function_or_method",
    "instance",
    "_Feature"
   ],
   "window_display": false
  }
 },
 "nbformat": 4,
 "nbformat_minor": 5
}
